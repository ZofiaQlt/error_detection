{
 "cells": [
  {
   "cell_type": "markdown",
   "id": "a2c80df4-2eda-4eed-b2b0-370945b7ae15",
   "metadata": {
    "canvas": {
     "comments": [],
     "componentType": "CodeCell",
     "copiedOriginId": null,
     "diskcache": false,
     "headerColor": "inherit",
     "id": "aec16580-727b-48f6-a0c7-2519bc47fdb0",
     "isComponent": false,
     "name": "",
     "parents": []
    }
   },
   "source": [
    "<img src=\"img/logo.png\">"
   ]
  },
  {
   "cell_type": "markdown",
   "id": "3dc588c8-cb04-4fdd-9395-772a48aa6c20",
   "metadata": {
    "canvas": {
     "comments": [],
     "componentType": "CodeCell",
     "copiedOriginId": null,
     "diskcache": false,
     "headerColor": "inherit",
     "id": "87710f33-0514-4201-9328-a22763d4552f",
     "isComponent": false,
     "name": "",
     "parents": []
    }
   },
   "source": [
    "# Algorithme de détection des vrais / faux billets"
   ]
  },
  {
   "cell_type": "code",
   "execution_count": 1,
   "id": "d17fd296-4d64-455c-b90d-62400d8b53ab",
   "metadata": {
    "canvas": {
     "comments": [],
     "componentType": "CodeCell",
     "copiedOriginId": null,
     "diskcache": false,
     "headerColor": "inherit",
     "id": "1f1a6e64-2a30-45f6-9437-b03f4f85d794",
     "isComponent": false,
     "name": "",
     "parents": []
    }
   },
   "outputs": [],
   "source": [
    "import pandas as pd\n",
    "import pickle\n",
    "from mylib.pickle import read_pickle\n",
    "import os"
   ]
  },
  {
   "cell_type": "markdown",
   "id": "7c0648c5-9e79-46ae-bad3-e3bed847e699",
   "metadata": {
    "canvas": {
     "comments": [],
     "componentType": "CodeCell",
     "copiedOriginId": null,
     "diskcache": false,
     "headerColor": "inherit",
     "id": "ac7aa5c4-bb45-4c48-8fe6-7f1849832ac4",
     "isComponent": false,
     "name": "",
     "parents": []
    }
   },
   "source": [
    "## Récupération du modèle"
   ]
  },
  {
   "cell_type": "code",
   "execution_count": 2,
   "id": "341540cf-e3f3-4616-bb35-da80d65db394",
   "metadata": {
    "canvas": {
     "comments": [],
     "componentType": "CodeCell",
     "copiedOriginId": null,
     "diskcache": false,
     "headerColor": "inherit",
     "id": "d57ccc61-3588-4449-b933-e3f3b37a17ca",
     "isComponent": false,
     "name": "",
     "parents": []
    }
   },
   "outputs": [],
   "source": [
    "# Chemin absolu du dossier actuel\n",
    "current_dir = os.getcwd()\n",
    "\n",
    "# Chemin relatif vers le modèle\n",
    "relative_path = 'p10_lr1'\n",
    "\n",
    "# Chemin complet\n",
    "model_path = os.path.join(current_dir, relative_path)\n",
    "\n",
    "# Extraction du modèle\n",
    "pickle_lr = read_pickle(model_path, '')"
   ]
  },
  {
   "cell_type": "markdown",
   "id": "662915a5-29b1-4299-89ac-f65a555574c9",
   "metadata": {
    "canvas": {
     "comments": [],
     "componentType": "CodeCell",
     "copiedOriginId": null,
     "diskcache": false,
     "headerColor": "inherit",
     "id": "84460ba5-795b-44c6-9bdc-7d0e85cad717",
     "isComponent": false,
     "name": "",
     "parents": []
    }
   },
   "source": [
    "## Création de l'algorithme"
   ]
  },
  {
   "cell_type": "code",
   "execution_count": 3,
   "id": "131619c7-2254-4bc3-87a0-fcd09b5019a6",
   "metadata": {
    "canvas": {
     "comments": [],
     "componentType": "CodeCell",
     "copiedOriginId": "52de9da2-b149-4d47-8572-e91f64c81676",
     "diskcache": false,
     "headerColor": "inherit",
     "id": "5e9751ea-6535-45a6-a92d-c4ce4761abbe",
     "isComponent": false,
     "name": "",
     "parents": []
    }
   },
   "outputs": [],
   "source": [
    "def pred_billets(path_data, model):\n",
    "    \"\"\"\n",
    "    Fait des prédictions sur les données de billets en utilisant un modèle donné\n",
    "\n",
    "    Args:\n",
    "        data (DataFrame): les données de billets à prédire\n",
    "        model: le modèle utilisé pour les prédictions\n",
    "\n",
    "    Returns:\n",
    "        DataFrame: Un DataFrame contenant les prédictions et les probabilités de véracité\n",
    "    \"\"\"\n",
    "    # Chargement des données de billets depuis le fichier CSV\n",
    "    data = pd.read_csv(path_data, sep=\",\")\n",
    "    \n",
    "    # Sélection des colonnes pertinentes et définition de la variable 'id' comme index\n",
    "    data = data[['id', 'length', 'margin_low', 'margin_up', 'height_right']].set_index('id')\n",
    "    \n",
    "    # Utilisation du modèle pour faire des prédictions\n",
    "    predictions = model.predict(data)\n",
    "    probabilities = model.predict_proba(data)[:, 1]  # Probabilités des vrais billets\n",
    "    \n",
    "    # Ajout des résultats au DataFrame\n",
    "    data[\"véracité du billet\"] = predictions\n",
    "    data['probabilité de véracité'] = probabilities.round(4)\n",
    "    \n",
    "    # Affichage des ID des vrais billets\n",
    "    billets_vrais = data[data[\"véracité du billet\"] == 1].index.tolist()\n",
    "    print('=' * 45, \"\\nIdentifiants des vrais billets :\", ', '.join(billets_vrais))\n",
    "    \n",
    "    # Affichage des ID des faux billets\n",
    "    billets_faux = data[data[\"véracité du billet\"] == 0].index.tolist()\n",
    "    print(\"Identifiants des faux billets :\", ', '.join(billets_faux),'\\n' + '=' * 45 + '\\n')\n",
    "    \n",
    "    return data"
   ]
  },
  {
   "cell_type": "markdown",
   "id": "ce7380a8-0ad6-454b-9381-5ac832bf4bdb",
   "metadata": {
    "canvas": {
     "comments": [],
     "componentType": "CodeCell",
     "copiedOriginId": null,
     "diskcache": false,
     "headerColor": "inherit",
     "id": "de5bf6c1-8583-4f3f-8347-781890eb7b99",
     "isComponent": false,
     "name": "",
     "parents": []
    }
   },
   "source": [
    "## Détection des vrais / faux billets"
   ]
  },
  {
   "cell_type": "markdown",
   "id": "83616a06-fd8a-4adf-83c6-a3d945f04531",
   "metadata": {
    "canvas": {
     "comments": [],
     "componentType": "CodeCell",
     "copiedOriginId": null,
     "diskcache": false,
     "headerColor": "inherit",
     "id": "596fb2b3-44a3-4532-bc2d-f217fd81e03f",
     "isComponent": false,
     "name": "",
     "parents": []
    }
   },
   "source": [
    "### Test échantillon 1"
   ]
  },
  {
   "cell_type": "code",
   "execution_count": 7,
   "id": "2ccad5a9-6710-466e-be40-ea0177bd33ce",
   "metadata": {
    "canvas": {
     "comments": [],
     "componentType": "CodeCell",
     "copiedOriginId": "21dc4e91-a721-4c95-8a34-220e454ba337",
     "diskcache": false,
     "headerColor": "inherit",
     "id": "bd7197e2-2002-429e-863a-c8d30db9235a",
     "isComponent": false,
     "name": "",
     "parents": []
    }
   },
   "outputs": [
    {
     "name": "stdout",
     "output_type": "stream",
     "text": [
      "============================================= \n",
      "Identifiants des vrais billets : A_4, A_5\n",
      "Identifiants des faux billets : A_1, A_2, A_3 \n",
      "=============================================\n",
      "\n"
     ]
    },
    {
     "data": {
      "text/html": [
       "<div>\n",
       "<style scoped>\n",
       "    .dataframe tbody tr th:only-of-type {\n",
       "        vertical-align: middle;\n",
       "    }\n",
       "\n",
       "    .dataframe tbody tr th {\n",
       "        vertical-align: top;\n",
       "    }\n",
       "\n",
       "    .dataframe thead th {\n",
       "        text-align: right;\n",
       "    }\n",
       "</style>\n",
       "<table border=\"1\" class=\"dataframe\">\n",
       "  <thead>\n",
       "    <tr style=\"text-align: right;\">\n",
       "      <th></th>\n",
       "      <th>length</th>\n",
       "      <th>margin_low</th>\n",
       "      <th>margin_up</th>\n",
       "      <th>height_right</th>\n",
       "      <th>véracité du billet</th>\n",
       "      <th>probabilité de véracité</th>\n",
       "    </tr>\n",
       "    <tr>\n",
       "      <th>id</th>\n",
       "      <th></th>\n",
       "      <th></th>\n",
       "      <th></th>\n",
       "      <th></th>\n",
       "      <th></th>\n",
       "      <th></th>\n",
       "    </tr>\n",
       "  </thead>\n",
       "  <tbody>\n",
       "    <tr>\n",
       "      <th>A_1</th>\n",
       "      <td>111.42</td>\n",
       "      <td>5.21</td>\n",
       "      <td>3.30</td>\n",
       "      <td>103.54</td>\n",
       "      <td>False</td>\n",
       "      <td>0.0128</td>\n",
       "    </tr>\n",
       "    <tr>\n",
       "      <th>A_2</th>\n",
       "      <td>112.09</td>\n",
       "      <td>6.00</td>\n",
       "      <td>3.31</td>\n",
       "      <td>104.13</td>\n",
       "      <td>False</td>\n",
       "      <td>0.0009</td>\n",
       "    </tr>\n",
       "    <tr>\n",
       "      <th>A_3</th>\n",
       "      <td>111.57</td>\n",
       "      <td>4.99</td>\n",
       "      <td>3.39</td>\n",
       "      <td>104.29</td>\n",
       "      <td>False</td>\n",
       "      <td>0.0030</td>\n",
       "    </tr>\n",
       "    <tr>\n",
       "      <th>A_4</th>\n",
       "      <td>113.20</td>\n",
       "      <td>4.44</td>\n",
       "      <td>3.03</td>\n",
       "      <td>104.34</td>\n",
       "      <td>True</td>\n",
       "      <td>0.9304</td>\n",
       "    </tr>\n",
       "    <tr>\n",
       "      <th>A_5</th>\n",
       "      <td>113.33</td>\n",
       "      <td>3.77</td>\n",
       "      <td>3.16</td>\n",
       "      <td>103.56</td>\n",
       "      <td>True</td>\n",
       "      <td>0.9995</td>\n",
       "    </tr>\n",
       "  </tbody>\n",
       "</table>\n",
       "</div>"
      ],
      "text/plain": [
       "     length  margin_low  margin_up  height_right  véracité du billet  \\\n",
       "id                                                                     \n",
       "A_1  111.42        5.21       3.30        103.54               False   \n",
       "A_2  112.09        6.00       3.31        104.13               False   \n",
       "A_3  111.57        4.99       3.39        104.29               False   \n",
       "A_4  113.20        4.44       3.03        104.34                True   \n",
       "A_5  113.33        3.77       3.16        103.56                True   \n",
       "\n",
       "     probabilité de véracité  \n",
       "id                            \n",
       "A_1                   0.0128  \n",
       "A_2                   0.0009  \n",
       "A_3                   0.0030  \n",
       "A_4                   0.9304  \n",
       "A_5                   0.9995  "
      ]
     },
     "execution_count": 7,
     "metadata": {},
     "output_type": "execute_result"
    }
   ],
   "source": [
    "path_data = 'src/billets_production.csv'\n",
    "pred_billets(path_data, pickle_lr)"
   ]
  },
  {
   "cell_type": "markdown",
   "id": "41a7a498-3833-4331-b6f7-5b3d8e5538a2",
   "metadata": {
    "canvas": {
     "comments": [],
     "componentType": "CodeCell",
     "copiedOriginId": null,
     "diskcache": false,
     "headerColor": "inherit",
     "id": "2e675eb1-5093-4285-951a-87ec8a2bee37",
     "isComponent": false,
     "name": "",
     "parents": []
    }
   },
   "source": [
    "### Test échantillon 2"
   ]
  },
  {
   "cell_type": "code",
   "execution_count": 10,
   "id": "7af8902c-441c-4800-afea-d973a3e60a0c",
   "metadata": {
    "canvas": {
     "comments": [],
     "componentType": "CodeCell",
     "copiedOriginId": null,
     "diskcache": false,
     "headerColor": "inherit",
     "id": "c703b4f8-b373-464d-93dc-9c7f35b917d1",
     "isComponent": false,
     "name": "",
     "parents": []
    }
   },
   "outputs": [
    {
     "data": {
      "text/html": [
       "<div>\n",
       "<style scoped>\n",
       "    .dataframe tbody tr th:only-of-type {\n",
       "        vertical-align: middle;\n",
       "    }\n",
       "\n",
       "    .dataframe tbody tr th {\n",
       "        vertical-align: top;\n",
       "    }\n",
       "\n",
       "    .dataframe thead th {\n",
       "        text-align: right;\n",
       "    }\n",
       "</style>\n",
       "<table border=\"1\" class=\"dataframe\">\n",
       "  <thead>\n",
       "    <tr style=\"text-align: right;\">\n",
       "      <th></th>\n",
       "      <th>diagonal</th>\n",
       "      <th>height_left</th>\n",
       "      <th>height_right</th>\n",
       "      <th>margin_low</th>\n",
       "      <th>margin_up</th>\n",
       "      <th>length</th>\n",
       "      <th>id</th>\n",
       "    </tr>\n",
       "  </thead>\n",
       "  <tbody>\n",
       "    <tr>\n",
       "      <th>0</th>\n",
       "      <td>172.09</td>\n",
       "      <td>103.95</td>\n",
       "      <td>103.73</td>\n",
       "      <td>4.39</td>\n",
       "      <td>3.09</td>\n",
       "      <td>113.19</td>\n",
       "      <td>B_1</td>\n",
       "    </tr>\n",
       "    <tr>\n",
       "      <th>1</th>\n",
       "      <td>171.52</td>\n",
       "      <td>104.17</td>\n",
       "      <td>104.03</td>\n",
       "      <td>5.27</td>\n",
       "      <td>3.16</td>\n",
       "      <td>111.82</td>\n",
       "      <td>B_2</td>\n",
       "    </tr>\n",
       "    <tr>\n",
       "      <th>2</th>\n",
       "      <td>171.78</td>\n",
       "      <td>103.80</td>\n",
       "      <td>103.75</td>\n",
       "      <td>3.81</td>\n",
       "      <td>3.24</td>\n",
       "      <td>113.39</td>\n",
       "      <td>B_3</td>\n",
       "    </tr>\n",
       "    <tr>\n",
       "      <th>3</th>\n",
       "      <td>172.02</td>\n",
       "      <td>104.08</td>\n",
       "      <td>103.99</td>\n",
       "      <td>5.57</td>\n",
       "      <td>3.30</td>\n",
       "      <td>111.10</td>\n",
       "      <td>B_4</td>\n",
       "    </tr>\n",
       "    <tr>\n",
       "      <th>4</th>\n",
       "      <td>171.79</td>\n",
       "      <td>104.34</td>\n",
       "      <td>104.37</td>\n",
       "      <td>5.00</td>\n",
       "      <td>3.07</td>\n",
       "      <td>111.87</td>\n",
       "      <td>B_5</td>\n",
       "    </tr>\n",
       "  </tbody>\n",
       "</table>\n",
       "</div>"
      ],
      "text/plain": [
       "   diagonal  height_left  height_right  margin_low  margin_up  length   id\n",
       "0    172.09       103.95        103.73        4.39       3.09  113.19  B_1\n",
       "1    171.52       104.17        104.03        5.27       3.16  111.82  B_2\n",
       "2    171.78       103.80        103.75        3.81       3.24  113.39  B_3\n",
       "3    172.02       104.08        103.99        5.57       3.30  111.10  B_4\n",
       "4    171.79       104.34        104.37        5.00       3.07  111.87  B_5"
      ]
     },
     "execution_count": 10,
     "metadata": {},
     "output_type": "execute_result"
    }
   ],
   "source": [
    "path_data = 'src/billets_test.csv'\n",
    "data = pd.read_csv(path_data, sep=\",\")\n",
    "data"
   ]
  },
  {
   "cell_type": "code",
   "execution_count": 11,
   "id": "beacacd0-96b4-4967-97e3-f3e0cd5c6960",
   "metadata": {
    "canvas": {
     "comments": [],
     "componentType": "CodeCell",
     "copiedOriginId": null,
     "diskcache": false,
     "headerColor": "inherit",
     "id": "d1a31c94-30ca-4845-b604-7faa9ffe36fb",
     "isComponent": false,
     "name": "",
     "parents": []
    }
   },
   "outputs": [
    {
     "name": "stdout",
     "output_type": "stream",
     "text": [
      "============================================= \n",
      "Identifiants des vrais billets : B_1, B_3\n",
      "Identifiants des faux billets : B_2, B_4, B_5 \n",
      "=============================================\n",
      "\n"
     ]
    },
    {
     "data": {
      "text/html": [
       "<div>\n",
       "<style scoped>\n",
       "    .dataframe tbody tr th:only-of-type {\n",
       "        vertical-align: middle;\n",
       "    }\n",
       "\n",
       "    .dataframe tbody tr th {\n",
       "        vertical-align: top;\n",
       "    }\n",
       "\n",
       "    .dataframe thead th {\n",
       "        text-align: right;\n",
       "    }\n",
       "</style>\n",
       "<table border=\"1\" class=\"dataframe\">\n",
       "  <thead>\n",
       "    <tr style=\"text-align: right;\">\n",
       "      <th></th>\n",
       "      <th>length</th>\n",
       "      <th>margin_low</th>\n",
       "      <th>margin_up</th>\n",
       "      <th>height_right</th>\n",
       "      <th>véracité du billet</th>\n",
       "      <th>probabilité de véracité</th>\n",
       "    </tr>\n",
       "    <tr>\n",
       "      <th>id</th>\n",
       "      <th></th>\n",
       "      <th></th>\n",
       "      <th></th>\n",
       "      <th></th>\n",
       "      <th></th>\n",
       "      <th></th>\n",
       "    </tr>\n",
       "  </thead>\n",
       "  <tbody>\n",
       "    <tr>\n",
       "      <th>B_1</th>\n",
       "      <td>113.19</td>\n",
       "      <td>4.39</td>\n",
       "      <td>3.09</td>\n",
       "      <td>103.73</td>\n",
       "      <td>True</td>\n",
       "      <td>0.9892</td>\n",
       "    </tr>\n",
       "    <tr>\n",
       "      <th>B_2</th>\n",
       "      <td>111.82</td>\n",
       "      <td>5.27</td>\n",
       "      <td>3.16</td>\n",
       "      <td>104.03</td>\n",
       "      <td>False</td>\n",
       "      <td>0.0124</td>\n",
       "    </tr>\n",
       "    <tr>\n",
       "      <th>B_3</th>\n",
       "      <td>113.39</td>\n",
       "      <td>3.81</td>\n",
       "      <td>3.24</td>\n",
       "      <td>103.75</td>\n",
       "      <td>True</td>\n",
       "      <td>0.9988</td>\n",
       "    </tr>\n",
       "    <tr>\n",
       "      <th>B_4</th>\n",
       "      <td>111.10</td>\n",
       "      <td>5.57</td>\n",
       "      <td>3.30</td>\n",
       "      <td>103.99</td>\n",
       "      <td>False</td>\n",
       "      <td>0.0003</td>\n",
       "    </tr>\n",
       "    <tr>\n",
       "      <th>B_5</th>\n",
       "      <td>111.87</td>\n",
       "      <td>5.00</td>\n",
       "      <td>3.07</td>\n",
       "      <td>104.37</td>\n",
       "      <td>False</td>\n",
       "      <td>0.0176</td>\n",
       "    </tr>\n",
       "  </tbody>\n",
       "</table>\n",
       "</div>"
      ],
      "text/plain": [
       "     length  margin_low  margin_up  height_right  véracité du billet  \\\n",
       "id                                                                     \n",
       "B_1  113.19        4.39       3.09        103.73                True   \n",
       "B_2  111.82        5.27       3.16        104.03               False   \n",
       "B_3  113.39        3.81       3.24        103.75                True   \n",
       "B_4  111.10        5.57       3.30        103.99               False   \n",
       "B_5  111.87        5.00       3.07        104.37               False   \n",
       "\n",
       "     probabilité de véracité  \n",
       "id                            \n",
       "B_1                   0.9892  \n",
       "B_2                   0.0124  \n",
       "B_3                   0.9988  \n",
       "B_4                   0.0003  \n",
       "B_5                   0.0176  "
      ]
     },
     "execution_count": 11,
     "metadata": {},
     "output_type": "execute_result"
    }
   ],
   "source": [
    "pred_billets(path_data, pickle_lr)"
   ]
  },
  {
   "cell_type": "code",
   "execution_count": null,
   "id": "65e006cf-72bd-4813-b797-a8153a814bce",
   "metadata": {
    "canvas": {
     "comments": [],
     "componentType": "CodeCell",
     "copiedOriginId": null,
     "diskcache": false,
     "headerColor": "inherit",
     "id": "49649429-9e52-4012-b79b-79ca130e1b40",
     "isComponent": false,
     "name": "",
     "parents": []
    }
   },
   "outputs": [],
   "source": []
  }
 ],
 "metadata": {
  "canvas": {
   "colorPalette": [
    "inherit",
    "inherit",
    "inherit",
    "inherit",
    "inherit",
    "inherit",
    "inherit",
    "inherit",
    "inherit",
    "inherit"
   ],
   "parameters": [],
   "version": "1.0"
  },
  "kernelspec": {
   "display_name": "Python 3 (ipykernel)",
   "language": "python",
   "name": "python3"
  },
  "language_info": {
   "codemirror_mode": {
    "name": "ipython",
    "version": 3
   },
   "file_extension": ".py",
   "mimetype": "text/x-python",
   "name": "python",
   "nbconvert_exporter": "python",
   "pygments_lexer": "ipython3",
   "version": "3.9.13"
  }
 },
 "nbformat": 4,
 "nbformat_minor": 5
}
